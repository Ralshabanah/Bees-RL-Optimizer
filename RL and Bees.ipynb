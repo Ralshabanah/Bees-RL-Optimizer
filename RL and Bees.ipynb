{
  "cells": [
    {
      "cell_type": "markdown",
      "metadata": {
        "id": "gcOEaw7-Tzcn"
      },
      "source": [
        "#**Feature selection using reinforcement learning and Bees optimization algorithm**"
      ]
    },
    {
      "cell_type": "markdown",
      "source": [
        "<a href=\"https://colab.research.google.com/github/Neofly4023/bso-fs/blob/master/bso_fs_rl.ipynb\" target=\"_parent\"><img src=\"https://colab.research.google.com/assets/colab-badge.svg\" alt=\"Open In Colab\"/></a>"
      ],
      "metadata": {
        "id": "1ybJvkscvvZS"
      }
    },
    {
      "cell_type": "markdown",
      "source": [
        "Feature selection playing a major role in ML tasks. In this project, we’re proposing a reinforcement learning and Bees optimization algorithm. We had tune the parameter also for more accurate classification process\n",
        "\n",
        "\n"
      ],
      "metadata": {
        "id": "OWQQFyyFW5-_"
      }
    },
    {
      "cell_type": "markdown",
      "source": [
        "Created By: \n",
        "*   Areej Turky AlOtaibi \n",
        "*   Raghad Adel AlShabana\n",
        "*   Shoroog Saad AlArifi\n",
        "*   Slima Mohammad Bnous"
      ],
      "metadata": {
        "id": "0j4arnFRXiXF"
      }
    },
    {
      "cell_type": "markdown",
      "source": [
        "##Installing requirement"
      ],
      "metadata": {
        "id": "gkw13B4X9ob-"
      }
    },
    {
      "cell_type": "code",
      "source": [
        "!pip install pip==21.3.1"
      ],
      "metadata": {
        "colab": {
          "base_uri": "https://localhost:8080/"
        },
        "id": "G_jw9g2R6I-B",
        "outputId": "514d70d6-883e-44e4-d247-faafa4ef8600"
      },
      "execution_count": 15,
      "outputs": [
        {
          "output_type": "stream",
          "name": "stdout",
          "text": [
            "Looking in indexes: https://pypi.org/simple, https://us-python.pkg.dev/colab-wheels/public/simple/\n",
            "Requirement already satisfied: pip==21.3.1 in /usr/local/lib/python3.10/dist-packages (21.3.1)\n",
            "\u001b[33mWARNING: Running pip as the 'root' user can result in broken permissions and conflicting behaviour with the system package manager. It is recommended to use a virtual environment instead: https://pip.pypa.io/warnings/venv\u001b[0m\n"
          ]
        }
      ]
    },
    {
      "cell_type": "code",
      "source": [
        "!pip install xlsxwriter pandas numpy sklearn matplotlib hyperopt"
      ],
      "metadata": {
        "colab": {
          "base_uri": "https://localhost:8080/"
        },
        "id": "y8Q-YltkPRCt",
        "outputId": "f26ade0f-d5fa-46d4-cfe7-95aeaa8d9af8"
      },
      "execution_count": 16,
      "outputs": [
        {
          "output_type": "stream",
          "name": "stdout",
          "text": [
            "Looking in indexes: https://pypi.org/simple, https://us-python.pkg.dev/colab-wheels/public/simple/\n",
            "Requirement already satisfied: xlsxwriter in /usr/local/lib/python3.10/dist-packages (3.1.2)\n",
            "Requirement already satisfied: pandas in /usr/local/lib/python3.10/dist-packages (1.5.3)\n",
            "Requirement already satisfied: numpy in /usr/local/lib/python3.10/dist-packages (1.22.4)\n",
            "Requirement already satisfied: sklearn in /usr/local/lib/python3.10/dist-packages (0.0.post5)\n",
            "Requirement already satisfied: matplotlib in /usr/local/lib/python3.10/dist-packages (3.7.1)\n",
            "Requirement already satisfied: hyperopt in /usr/local/lib/python3.10/dist-packages (0.2.7)\n",
            "Requirement already satisfied: python-dateutil>=2.8.1 in /usr/local/lib/python3.10/dist-packages (from pandas) (2.8.2)\n",
            "Requirement already satisfied: pytz>=2020.1 in /usr/local/lib/python3.10/dist-packages (from pandas) (2022.7.1)\n",
            "Requirement already satisfied: cycler>=0.10 in /usr/local/lib/python3.10/dist-packages (from matplotlib) (0.11.0)\n",
            "Requirement already satisfied: kiwisolver>=1.0.1 in /usr/local/lib/python3.10/dist-packages (from matplotlib) (1.4.4)\n",
            "Requirement already satisfied: fonttools>=4.22.0 in /usr/local/lib/python3.10/dist-packages (from matplotlib) (4.39.3)\n",
            "Requirement already satisfied: pyparsing>=2.3.1 in /usr/local/lib/python3.10/dist-packages (from matplotlib) (3.0.9)\n",
            "Requirement already satisfied: packaging>=20.0 in /usr/local/lib/python3.10/dist-packages (from matplotlib) (23.1)\n",
            "Requirement already satisfied: pillow>=6.2.0 in /usr/local/lib/python3.10/dist-packages (from matplotlib) (8.4.0)\n",
            "Requirement already satisfied: contourpy>=1.0.1 in /usr/local/lib/python3.10/dist-packages (from matplotlib) (1.0.7)\n",
            "Requirement already satisfied: networkx>=2.2 in /usr/local/lib/python3.10/dist-packages (from hyperopt) (3.1)\n",
            "Requirement already satisfied: cloudpickle in /usr/local/lib/python3.10/dist-packages (from hyperopt) (2.2.1)\n",
            "Requirement already satisfied: py4j in /usr/local/lib/python3.10/dist-packages (from hyperopt) (0.10.9.7)\n",
            "Requirement already satisfied: six in /usr/local/lib/python3.10/dist-packages (from hyperopt) (1.16.0)\n",
            "Requirement already satisfied: future in /usr/local/lib/python3.10/dist-packages (from hyperopt) (0.18.3)\n",
            "Requirement already satisfied: tqdm in /usr/local/lib/python3.10/dist-packages (from hyperopt) (4.65.0)\n",
            "Requirement already satisfied: scipy in /usr/local/lib/python3.10/dist-packages (from hyperopt) (1.10.1)\n",
            "\u001b[33mWARNING: Running pip as the 'root' user can result in broken permissions and conflicting behaviour with the system package manager. It is recommended to use a virtual environment instead: https://pip.pypa.io/warnings/venv\u001b[0m\n"
          ]
        }
      ]
    },
    {
      "cell_type": "code",
      "source": [
        "import pandas as pd\n",
        "import numpy as np\n",
        "import matplotlib.pyplot as plt\n",
        "import os, glob, random, copy, sys, time, re, operator, xlsxwriter\n",
        "from collections import defaultdict\n",
        "from sklearn import metrics\n",
        "from sklearn.model_selection import train_test_split, cross_val_score, cross_validate, KFold, StratifiedKFold, \\\n",
        "ShuffleSplit\n",
        "from sklearn.neighbors import KNeighborsClassifier\n",
        "from sklearn.svm import SVC\n",
        "from sklearn.preprocessing import StandardScaler\n",
        "from oauth2client.client import GoogleCredentials\n",
        "from google.colab import drive\n",
        "from prettytable import PrettyTable\n",
        "from sklearn.metrics import accuracy_score\n",
        "from hyperopt import hp, fmin, tpe, Trials\n",
        "import matplotlib.pyplot as plt\n"
      ],
      "metadata": {
        "id": "J-TAG1XYMLDQ"
      },
      "execution_count": 17,
      "outputs": []
    },
    {
      "cell_type": "code",
      "source": [
        "drive.mount('/content/drive')"
      ],
      "metadata": {
        "colab": {
          "base_uri": "https://localhost:8080/"
        },
        "id": "54XyKdK6MObJ",
        "outputId": "de6db0e7-ee38-4609-9c0d-57fff4b87138"
      },
      "execution_count": 18,
      "outputs": [
        {
          "output_type": "stream",
          "name": "stdout",
          "text": [
            "Drive already mounted at /content/drive; to attempt to forcibly remount, call drive.mount(\"/content/drive\", force_remount=True).\n"
          ]
        }
      ]
    },
    {
      "cell_type": "markdown",
      "source": [
        "## Bee class\n",
        "This class is used to implement the bee and the local search"
      ],
      "metadata": {
        "id": "p1vKd69s9u3J"
      }
    },
    {
      "cell_type": "code",
      "source": [
        "class Bee :\n",
        "    def __init__(self,id,problem,locIterations):\n",
        "        self.id=id\n",
        "        self.data=problem\n",
        "        self.solution=[]\n",
        "        self.fitness= 0.0\n",
        "        self.reward = 0.0\n",
        "        self.locIterations=locIterations\n",
        "        self.action = []\n",
        "    \n",
        "    def localSearch(self):\n",
        "        best=self.fitness\n",
        "        #done=False\n",
        "        lista=[j for j, n in enumerate(self.solution) if n == 1]\n",
        "        indice =lista[0]\n",
        "        \n",
        "        for itr in range(self.locIterations):\n",
        "            while(True):\n",
        "                pos=-1\n",
        "                oldFitness=self.fitness\n",
        "                for i in range(len(self.solution)):\n",
        "                    \n",
        "                    if ((len(lista)==1) and (indice==i) and (i < self.data.nb_attribs-1)):\n",
        "                        i+=1\n",
        "                    self.solution[i]= (self.solution[i] + 1) % 2\n",
        "                    \n",
        "                    quality = self.data.evaluate(self.solution)\n",
        "                    if (quality >best):\n",
        "                        pos = i\n",
        "                        best=quality\n",
        "                    self.solution[i]= (self.solution[i]+1) % 2\n",
        "                    self.fitness = oldFitness \n",
        "                if (pos != -1):\n",
        "                    self.solution[pos]= (self.solution[pos]+1)%2\n",
        "                    self.fitness = best\n",
        "                else:\n",
        "                    break\n",
        "            for i in range(len(self.solution)):\n",
        "                oldFitness=self.fitness\n",
        "                if ((len(lista)==1) and (indice==i) and (i < self.data.nb_attribs-1)):\n",
        "                    i+=1\n",
        "                self.solution[i]= (self.solution[i] + 1) % 2\n",
        "                quality = self.data.evaluate(self.solution)\n",
        "                if (quality<best):\n",
        "                    self.solution[i]= (self.solution[i] + 1) % 2\n",
        "                    self.fitness = oldFitness\n",
        "\n",
        "\n",
        "    def ql_localSearch(self):\n",
        "        \n",
        "        iterations = int(self.locIterations/4) if self.locIterations >= 4 else 1\n",
        "        for itr in range(iterations):\n",
        "       \n",
        "            state = self.solution.copy()\n",
        "\n",
        "            next_state, action = self.data.ql.step(self.data,state)\n",
        "            acc_state = self.data.evaluate(state)\n",
        "            acc_new_state = self.data.evaluate(next_state)\n",
        "\n",
        "            if (acc_state < acc_new_state):\n",
        "                self.reward = acc_new_state\n",
        "            elif (acc_state > acc_new_state):\n",
        "                self.reward = acc_new_state - acc_state\n",
        "            else :\n",
        "                if (self.data.nbrUn(state) > self.data.nbrUn(next_state) ):\n",
        "                    self.reward = 0.5 * acc_new_state\n",
        "                else :\n",
        "                    self.reward = -0.5 * acc_new_state\n",
        "\n",
        "            self.fitness = self.data.ql.get_q_value(self.data,state,action)\n",
        "            self.data.ql.learn(self.data,state,action,self.reward,next_state)\n",
        "            self.solution = next_state.copy()\n",
        "        \n",
        "       \n",
        "    def setSolution(self,solution):\n",
        "        self.solution=solution.copy()\n",
        "        self.fitness=self.data.evaluate(solution)\n",
        "    \n",
        "    def Rand(self,num): \n",
        "        res = [] \n",
        "        res = np.random.choice([0,1],size=(num,),p=[2./10,8./10]).tolist()\n",
        "  \n",
        "        return res\n"
      ],
      "metadata": {
        "id": "5h_cucwCMc-F"
      },
      "execution_count": 19,
      "outputs": []
    },
    {
      "cell_type": "markdown",
      "source": [
        "##Swarm class \n",
        "This class is used to initilize the bees and the search area"
      ],
      "metadata": {
        "id": "GFXNoLbht1IV"
      }
    },
    {
      "cell_type": "code",
      "source": [
        "class Swarm :\n",
        "    def __init__(self,problem,flip,maxChance,nbrBees,maxIterations,locIterations):\n",
        "        self.data=problem\n",
        "        self.flip=flip\n",
        "        self.maxChance=maxChance\n",
        "        self.nbChance=maxChance\n",
        "        self.nbrBees=nbrBees\n",
        "        self.maxIterations=maxIterations\n",
        "        self.locIterations=locIterations\n",
        "        self.beeList=[]\n",
        "        self.refSolution = Bee(-1,self.data,self.locIterations)\n",
        "        self.refSolution.setSolution(self.refSolution.Rand(self.data.nb_attribs))\n",
        "        self.bestSolution = self.refSolution\n",
        "        self.tabou=[]\n",
        "\n",
        "    def searchArea(self):    \n",
        "        i=0\n",
        "        h=0\n",
        "        \n",
        "        self.beeList=[]\n",
        "        while((i<self.nbrBees) and (i < self.flip) ) :\n",
        "            \n",
        "            solution=self.refSolution.solution.copy()\n",
        "            k=0\n",
        "            while((self.flip*k+h) < len(solution)):\n",
        "                solution[self.flip*k +h] = ((solution[self.flip*k+h]+1) % 2)\n",
        "                k+=1\n",
        "            newBee=Bee(i,self.data,self.locIterations)\n",
        "            newBee.solution = solution.copy()\n",
        "            self.beeList.append(newBee)\n",
        "            \n",
        "            i+=1\n",
        "            h=h+1\n",
        "        h=0\n",
        "        \n",
        "        while((i<self.nbrBees) and (i< 2*self.flip )):\n",
        "\n",
        "            solution=self.refSolution.solution.copy()\n",
        "            k=0\n",
        "            while((k<int(len(solution)/self.flip)) and (self.flip*k+h < len(solution))):\n",
        "                solution[int(self.data.nb_attribs/self.flip)*h+k] = ((solution[int(self.data.nb_attribs/self.flip)*h+k]+1)%2)\n",
        "                k+=1\n",
        "            newBee=Bee(i,self.data,self.locIterations)\n",
        "            newBee.solution = solution.copy()\n",
        "            self.beeList.append(newBee)\n",
        "            \n",
        "            i+=1\n",
        "            h=h+1\n",
        "        while (i<self.nbrBees):\n",
        "            solution= self.refSolution.solution.copy()\n",
        "            indice = random.randint(0,len(solution)-1)\n",
        "            solution[indice]=((solution[indice]+1) % 2)\n",
        "            newBee=Bee(i,self.data,self.locIterations)\n",
        "            newBee.solution = solution.copy()\n",
        "            self.beeList.append(newBee)\n",
        "            i+=1\n",
        "        for bee in (self.beeList):\n",
        "            lista=[j for j, n in enumerate(bee.solution) if n == 1]\n",
        "            if (len(lista)== 0):\n",
        "                bee.setSolution(bee.Rand(self.data.nb_attribs))\n",
        "                \n",
        "    def selectRefSol(self,typeOfAlgo):\n",
        "      typeOfAlgo = typeOfAlgo\n",
        "      if (typeOfAlgo == 0):\n",
        "        self.beeList.sort(key=lambda Bee: Bee.fitness, reverse=True)\n",
        "        bestQuality=self.beeList[0].fitness\n",
        "        if(bestQuality>self.bestSolution.fitness):\n",
        "            self.bestSolution=self.beeList[0]\n",
        "            self.nbChance=self.maxChance\n",
        "            return self.bestSolution\n",
        "        else:\n",
        "            if(  (len(self.tabou)!=0) and  bestQuality > (self.tabou[len(self.tabou)-1].fitness)  ):\n",
        "                self.nbChance=self.maxChance\n",
        "                return self.bestBeeQuality(typeOfAlgo)\n",
        "            else:\n",
        "                self.nbChance-=1\n",
        "                if(self.nbChance > 0): \n",
        "                    return self.bestBeeQuality(typeOfAlgo)\n",
        "                else :\n",
        "                    return self.bestBeeDiversity()\n",
        "      \n",
        "      elif (typeOfAlgo == 1):\n",
        "        self.beeList.sort(key=lambda Bee: Bee.reward, reverse=True)\n",
        "        bestQuality=self.beeList[0].reward\n",
        "        if(bestQuality>self.bestSolution.reward):\n",
        "            self.bestSolution=self.beeList[0]\n",
        "            self.nbChance=self.maxChance\n",
        "            return self.bestSolution\n",
        "        else:\n",
        "            if(  (len(self.tabou)!=0) and  bestQuality > (self.tabou[len(self.tabou)-1].reward)  ):\n",
        "                self.nbChance=self.maxChance\n",
        "                return self.bestBeeQuality(typeOfAlgo)\n",
        "            else:\n",
        "                self.nbChance-=1\n",
        "                if(self.nbChance > 0): \n",
        "                    return self.bestBeeQuality(typeOfAlgo)\n",
        "                else :\n",
        "                    return self.bestBeeDiversity()                  \n",
        "\n",
        "    def distanceTabou(self,bee):\n",
        "        distanceMin=self.data.nb_attribs\n",
        "        for i in range(len(self.tabou)):\n",
        "            cpt=0\n",
        "            for j in range(self.data.nb_attribs):\n",
        "                if (bee.solution[j] != self.tabou[i].solution[j]) :\n",
        "                      cpt +=1\n",
        "            if (cpt<=1) :\n",
        "                return 0\n",
        "            if (cpt < distanceMin) :\n",
        "                distanceMin=cpt\n",
        "        return distanceMin\n",
        "    \n",
        "    def bestBeeQuality(self,typeOfAlgo):\n",
        "        distance = 0\n",
        "        i=0\n",
        "        pos=-1\n",
        "        while(i<self.nbrBees):\n",
        "            if (typeOfAlgo == 0):\n",
        "              max_val=self.beeList[i].fitness\n",
        "            if (typeOfAlgo == 1):\n",
        "              max_val=self.beeList[i].reward  \n",
        "\n",
        "            nbUn=self.data.nbrUn(self.beeList[i].solution)\n",
        "            while((i<self.nbrBees) and (self.data.evaluate(self.beeList[i].solution) == max_val)):\n",
        "                distanceTemp=self.distanceTabou(self.beeList[i])\n",
        "                nbUnTemp = self.data.nbrUn(self.beeList[i].solution)\n",
        "                if(distanceTemp > distance) or ((distanceTemp == distance) and (nbUnTemp < nbUn)):\n",
        "                    if((distanceTemp==distance) and (nbUnTemp<nbUn)):\n",
        "                        print(\"We pick the solution with less features\")\n",
        "                    nbUn=nbUnTemp\n",
        "                    distance=distanceTemp\n",
        "                    pos=i\n",
        "                i+=1\n",
        "            if(pos!=-1) :\n",
        "                return self.beeList[pos]\n",
        "        bee= Bee(-1,self.data,self.locIterations)\n",
        "        bee.setSolution(bee.Rand(self.data.nb_attribs))\n",
        "        return bee\n",
        "            \n",
        "    def bestBeeDiversity(self):\n",
        "        max_val=0\n",
        "        for i in range(len(self.beeList)):\n",
        "            if (self.distanceTabou(self.beeList[i])> max_val) :\n",
        "                max_val = self.distanceTabou(self.beeList[i])\n",
        "        if (max_val==0):\n",
        "            bee= Bee(-1,self.data,self.locIterations)\n",
        "            bee.setSolution(bee.Rand(self.data.nb_attribs))\n",
        "            return bee\n",
        "        i=0\n",
        "        while(i<len(self.beeList) and self.distanceTabou(self.beeList[i])!= max_val) :\n",
        "            i+=1\n",
        "        return self.beeList[i]\n",
        "    \n",
        "    def bso(self,typeOfAlgo):\n",
        "        i=0\n",
        "        while(i<self.maxIterations):\n",
        "            self.tabou.append(self.refSolution)\n",
        "        \n",
        "            \n",
        "            self.searchArea()\n",
        "            \n",
        "            for j in range(self.nbrBees):\n",
        "              if (typeOfAlgo == 0):\n",
        "                self.beeList[j].localSearch()\n",
        "              elif (typeOfAlgo == 1):\n",
        "                for episode in range(self.locIterations):\n",
        "                  self.beeList[j].ql_localSearch()\n",
        "            self.refSolution = self.selectRefSol(typeOfAlgo)\n",
        "            i+=1\n",
        "        print(\"[BSO parameters used]\\n\")\n",
        "        print(\"Type of algo : {0}\".format(typeOfAlgo))\n",
        "        print(\"Flip : {0}\".format(self.flip))\n",
        "        print(\"MaxChance : {0}\".format(self.maxChance))\n",
        "        print(\"Nbr of Bees : {0}\".format(self.nbrBees))\n",
        "        print(\"Nbr of Max Iterations : {0}\".format(self.maxIterations))\n",
        "        print(\"Nbr of Loc Iterations : {0}\\n\".format(self.locIterations))\n",
        "        print(\"Best solution found : \",self.bestSolution.solution)\n",
        "        print(\"Number of features used : {0}\".format(self.data.nbrUn(self.bestSolution.solution)))\n",
        "        print(\"Accuracy : {0:.2f} \".format(self.bestSolution.fitness*100))\n",
        "        #print(\"Return (Q-value) : \",self.bestSolution.fitness)\n",
        "        return self.bestSolution.fitness*100, self.data.nbrUn(self.bestSolution.solution)\n",
        "\n",
        "    \n",
        "    def str_sol(self,mlist):\n",
        "        result = ''\n",
        "        for element in mlist:\n",
        "            result += str(element)\n",
        "        return result\n"
      ],
      "metadata": {
        "id": "-5yj7fWLMlpU"
      },
      "execution_count": 20,
      "outputs": []
    },
    {
      "cell_type": "markdown",
      "source": [
        "## Reinforcement class\n",
        "This class is used to implement the Q-learning algorithm and update the q_table"
      ],
      "metadata": {
        "id": "jP32-9VftG_L"
      }
    },
    {
      "cell_type": "code",
      "source": [
        "class QLearning:\n",
        "    def __init__(self,nb_atts,actions):\n",
        "        self.actions = actions\n",
        "        self.alpha = 0.1 \n",
        "        self.gamma = 0.9\n",
        "        self.epsilon = 0.1\n",
        "        self.q_table = [ {} for i in range(nb_atts) ] \n",
        "\n",
        "    def get_max_value(self,data,state,actions_vals):\n",
        "        max_val = 0.0\n",
        "        arg_max = 0\n",
        "        for i in actions_vals:\n",
        "            if self.get_q_value(data,state,i) >= max_val:\n",
        "                max_val = self.get_q_value(data,state,i)\n",
        "                arg_max = i\n",
        "        if max_val == 0:\n",
        "            arg_max = np.random.choice(actions_vals)\n",
        "        return max_val,arg_max\n",
        "\n",
        "\n",
        "    def get_q_value(self,data,state,action):\n",
        "        if not self.str_sol(state) in self.q_table[self.nbrUn(state)]:\n",
        "            self.q_table[self.nbrUn(state)][self.str_sol(state)] = {}\n",
        "\n",
        "        if not str(action) in self.q_table[self.nbrUn(state)][self.str_sol(state)]:\n",
        "            self.q_table[self.nbrUn(state)][self.str_sol(state)][str(action)] = data.evaluate(self.get_next_state(state,action))\n",
        "            self.q_table[self.nbrUn(state)][self.str_sol(state)][str(action)] = 0\n",
        "            \n",
        "        return self.q_table[self.nbrUn(state)][self.str_sol(state)][str(action)]\n",
        "\n",
        "    def set_q_value(self,state,action,val):\n",
        "        self.q_table[self.nbrUn(state)][self.str_sol(state)][str(action)] = val\n",
        "\n",
        "\n",
        "    def step(self,data,state):\n",
        "        if np.random.uniform() > self.epsilon :\n",
        "            action_values = self.actions\n",
        "            argmax_actions=[] \n",
        "            for ac in action_values :\n",
        "\n",
        "                ac_state_q_val = self.get_q_value(data,state,ac)\n",
        "                if ( ac_state_q_val >= self.get_max_value(data,state,action_values)[0] ):\n",
        "                    argmax_actions.append(ac)\n",
        "\n",
        "            if len(argmax_actions) != 0:\n",
        "              next_action = np.random.choice(action_values) \n",
        "            else:\n",
        "              next_action = np.random.choice(action_values) \n",
        "            next_state = self.get_next_state(state,next_action)\n",
        "            \n",
        "        else :\n",
        "            next_action = np.random.choice(self.actions)\n",
        "            next_state = self.get_next_state(state,next_action)\n",
        "\n",
        "\n",
        "        if self.epsilon > 0 :\n",
        "            self.epsilon -= 0.0001 \n",
        "        if self.epsilon < 0 :\n",
        "            self.epsilon = 0\n",
        "\n",
        "        return next_state, next_action #, reward\n",
        "\n",
        "\n",
        "    def get_next_state(self,state,action):\n",
        "        next_state = state.copy()\n",
        "        next_state[action] = (next_state[action]+1) % 2\n",
        "        if (self.nbrUn(next_state) != 0):\n",
        "          return next_state\n",
        "        else:\n",
        "          return state\n",
        "    \n",
        "    def learn(self,data,current_state,current_action,reward,next_state):\n",
        "        \n",
        "        next_action = self.step(data,next_state)[1] # step returns 3 values : next_state, next_action, and the reward\n",
        "        new_q = reward + self.gamma * self.get_q_value(data,next_state,next_action)  #[0] is to pick q-value instead of [1] which is the accuracy of the new state \n",
        "        self.set_q_value(current_state,current_action,(1 - self.alpha)*self.get_q_value(data,current_state,current_action) + self.alpha*new_q)  \n",
        "\n",
        "    def str_sol(self,mlist):\n",
        "        result = ''\n",
        "        for element in mlist:\n",
        "            result += str(element)\n",
        "        return result\n",
        "\n",
        "    def nbrUn(self,solution):\n",
        "        return len([i for i, n in enumerate(solution) if n == 1])\n",
        "\n",
        "    def set_parameters(self, alpha, gamma, eps):\n",
        "      self.alpha= alpha\n",
        "      self.gamma= gamma\n",
        "      self.epsilon=eps\n",
        "  \n"
      ],
      "metadata": {
        "id": "K_ADZOg8MrAy"
      },
      "execution_count": 21,
      "outputs": []
    },
    {
      "cell_type": "markdown",
      "source": [
        "##Feature Selection class\n",
        "This class is used to initilize the features and labels from the dataset"
      ],
      "metadata": {
        "id": "m20tEqqXtCc4"
      }
    },
    {
      "cell_type": "code",
      "source": [
        "class FsProblem :\n",
        "    def __init__(self,data,qlearn):\n",
        "        self.data=data\n",
        "        self.nb_attribs= len(self.data.columns)-1 \n",
        "        self.outPuts=self.data.iloc[:,self.nb_attribs]\n",
        "        self.ql = qlearn\n",
        "        self.nb_actions = len(self.ql.actions)\n",
        "        self.classifier = KNeighborsClassifier(n_neighbors=1)\n",
        "        self.x= self.data.iloc[:,0:self.nb_attribs]     #Initilize the features from the dataset\n",
        "        self.y= self.outPuts                          #Initilize the labels from the dataset\n",
        "        #After tuning the K, reinitilize clf\n",
        "        ######In case of Hyperopt########\n",
        "        self.k= self.tuning_hyperOp()\n",
        "        ########In case of cross_valis\n",
        "        #self.k= self.tuning_CV()########\n",
        "        self.classifier= KNeighborsClassifier(n_neighbors=self.k)\n",
        "        \n",
        "    def evaluate2(self,solution):\n",
        "        list=[i for i, n in enumerate(solution) if n == 1]\n",
        "        if (len(list) == 0):\n",
        "            return 0\n",
        "         \n",
        "        df = self.data.iloc[:,list]\n",
        "        array=df.values\n",
        "        nb_attribs =len(array[0])\n",
        "        X = array[:,0:nb_attribs]\n",
        "        Y = self.outPuts\n",
        "        train_X, test_X, train_y, test_y = train_test_split(X, Y, \n",
        "                                                    random_state=0,\n",
        "                                                    test_size=0.1\n",
        "                                                    )\n",
        "        classifier = KNeighborsClassifier(n_neighbors=1)\n",
        "        classifier.fit(train_X,train_y)\n",
        "        predict= classifier.predict(test_X) \n",
        "        return metrics.accuracy_score(predict,test_y)\n",
        "    \n",
        "    def evaluate(self,solution):\n",
        "        list=[i for i, n in enumerate(solution) if n == 1]\n",
        "        if (len(list)== 0):\n",
        "            return 0\n",
        "        df = self.data.iloc[:,list]        \n",
        "        array=df.values\n",
        "        nbrAttributs =len(array[0])\n",
        "        X = array[:,0:nbrAttributs]\n",
        "        Y = self.outPuts\n",
        "        cv = ShuffleSplit(n_splits=10, test_size=0.1, random_state=0)\n",
        "        results = cross_val_score(self.classifier, X, Y, cv=cv,scoring='accuracy')\n",
        "        return results.mean()\n",
        "        \n",
        "    def nbrUn(self,solution):\n",
        "        return len([i for i, n in enumerate(solution) if n == 1])\n",
        "      #The hyper optimization method for tuning\n",
        "    def tuning_hyperOp(self):\n",
        "      # Parameter bounds\n",
        "      x_train, x_test, y_train, y_test = train_test_split(self.x, self.y, test_size=0.2, random_state=0)\n",
        "      space = {\n",
        "      'k': hp.choice('k', range(1, 11))  # Assuming k ranges from 1 to 10\n",
        "      }\n",
        "      #Objective function that train the classifier\n",
        "      def objective(params):\n",
        "          k = params['k']\n",
        "          # Create the k-nearest neighbors classifier\n",
        "          clf = KNeighborsClassifier(n_neighbors=k)\n",
        "          # Fit the classifier on the training data\n",
        "          clf.fit(x_train, y_train)\n",
        "          # Predict the labels for the test data\n",
        "          y_pred = clf.predict(x_test)\n",
        "          # Compute the accuracy score\n",
        "          accuracy = accuracy_score(y_test, y_pred)\n",
        "          return -accuracy\n",
        "\n",
        "      trials = Trials()\n",
        "      best = fmin(objective, space, algo=tpe.suggest, max_evals=10, trials=trials)\n",
        "\n",
        "      optimal_k = best['k']\n",
        "      print(\"Optimal_k: \", optimal_k)\n",
        "    \n",
        "      return optimal_k\n",
        "  #The cross validation method for tuning\n",
        "    def tuning_CV(self):\n",
        "        parameterlist_k=[]\n",
        "        k=[3,5,10]\n",
        "        max_k=0\n",
        "\n",
        "        for i in k:\n",
        "            scores = cross_validate(self.classifier, self.x, self.y , cv=3, scoring='accuracy')\n",
        "            parameterlist_k.append([i, scores])\n",
        "\n",
        "        print(parameterlist_k)\n",
        "        #Print the best parameter\n",
        "        print(\"Best parameter: \", max(parameterlist_k, key=lambda x: x[1]['test_score'].mean()))\n",
        "        #The k with the best score\n",
        "        max_k=max(parameterlist_k, key=lambda x: x[1]['test_score'].mean())[0]\n",
        "        #print the max k\n",
        "        print(\"Max k: \", max_k)\n",
        "        return max_k  \n",
        " "
      ],
      "metadata": {
        "id": "tNWIt32-MvVo"
      },
      "execution_count": 22,
      "outputs": []
    },
    {
      "cell_type": "markdown",
      "source": [
        "##Feature selection data\n",
        "This class is used to train the classifier and evaluate the accuracy of the solution"
      ],
      "metadata": {
        "id": "YUqG4HHEu4DV"
      }
    },
    {
      "cell_type": "code",
      "source": [
        "class FSData:\n",
        "\n",
        "    def __init__(self,location,nbr_exec):\n",
        "        \n",
        "        self.location = location\n",
        "        self.nb_exec = nbr_exec\n",
        "        self.dataset_name = re.search('[A-Za-z\\-]*.csv',self.location)[0].split('.')[0]\n",
        "        self.df = pd.read_csv(self.location,header=None)\n",
        "        self.ql = QLearning(len(self.df.columns),self.attributs_to_flip(len(self.df.columns)-1))\n",
        "        self.fsd = FsProblem(self.df,self.ql)\n",
        "        self.results = []\n",
        "        self.classifier_name = str(type(self.fsd.classifier)).strip('< > \\' class ').split('.')[3]\n",
        "\n",
        "        print(\"[START] Dataset\" + self.dataset_name + \"description \\n\")\n",
        "        print(\"Shape : \" + str(self.df.shape) + \"\\n\")\n",
        "        print(self.df.describe())\n",
        "        print(\"\\n[END] Dataset\" + self.dataset_name + \"description\\n\")\n",
        "        print(\"[START] Ressources specifications\\n\")\n",
        "        print(\"[END] Ressources specifications\\n\")\n",
        "    \n",
        "    def attributs_to_flip(self,nb_att):\n",
        "        return list(range(nb_att))\n",
        "    \n",
        "    def run(self,typeOfAlgo,flip,maxChance,nbrBees,maxIterations,locIterations):\n",
        "\n",
        "        t_init = time.time()\n",
        "        \n",
        "        for itr in range(1,self.nb_exec+1):\n",
        "          print (\"Execution N°{0}\".format(str(itr)))\n",
        "          self.ql = QLearning(len(self.df.columns),self.attributs_to_flip(len(self.df.columns)-1))\n",
        "          self.fsd = FsProblem(self.df,self.ql)\n",
        "          swarm = Swarm(self.fsd,flip,maxChance,nbrBees,maxIterations,locIterations)\n",
        "          t1 = time.time()\n",
        "          best = swarm.bso(typeOfAlgo)\n",
        "          t2 = time.time()\n",
        "          print(\"Time elapsed for execution N°{0} : {1:.2f} s\\n\".format(itr,t2-t1))\n",
        "          \n",
        "        t_end = time.time()\n",
        "        print (\"Total execution time for dataset {0} is {1:.2f} s\".format(self.dataset_name,t_end-t_init))\n"
      ],
      "metadata": {
        "id": "Zv-yh0O8Nqr5"
      },
      "execution_count": 31,
      "outputs": []
    },
    {
      "cell_type": "markdown",
      "source": [
        "##Main \n",
        "Has a parameter, call of the training and the output"
      ],
      "metadata": {
        "id": "PwuJlvc4u9gx"
      }
    },
    {
      "cell_type": "code",
      "execution_count": 32,
      "metadata": {
        "colab": {
          "base_uri": "https://localhost:8080/"
        },
        "id": "LlZENNNdT6A2",
        "outputId": "1504868b-9170-44ba-c4ca-08023efd0acb"
      },
      "outputs": [
        {
          "output_type": "stream",
          "name": "stdout",
          "text": [
            "100%|██████████| 10/10 [00:00<00:00, 51.58trial/s, best loss: -1.0]\n",
            "Optimal_k:  5\n",
            "[START] DatasetIrisdescription \n",
            "\n",
            "Shape : (150, 5)\n",
            "\n",
            "                0           1           2           3\n",
            "count  150.000000  150.000000  150.000000  150.000000\n",
            "mean     5.843333    3.054000    3.758667    1.198667\n",
            "std      0.828066    0.433594    1.764420    0.763161\n",
            "min      4.300000    2.000000    1.000000    0.100000\n",
            "25%      5.100000    2.800000    1.600000    0.300000\n",
            "50%      5.800000    3.000000    4.350000    1.300000\n",
            "75%      6.400000    3.300000    5.100000    1.800000\n",
            "max      7.900000    4.400000    6.900000    2.500000\n",
            "\n",
            "[END] DatasetIrisdescription\n",
            "\n",
            "[START] Ressources specifications\n",
            "\n",
            "[END] Ressources specifications\n",
            "\n",
            "Execution N°1\n",
            "100%|██████████| 10/10 [00:00<00:00, 54.31trial/s, best loss: -1.0]\n",
            "Optimal_k:  6\n",
            "[BSO parameters used]\n",
            "\n",
            "Type of algo : 0\n",
            "Flip : 5\n",
            "MaxChance : 3\n",
            "Nbr of Bees : 10\n",
            "Nbr of Max Iterations : 2\n",
            "Nbr of Loc Iterations : 2\n",
            "\n",
            "Best solution found :  [1, 0, 1, 1]\n",
            "Number of features used : 3\n",
            "Accuracy : 98.00 \n",
            "Time elapsed for execution N°1 : 12.09 s\n",
            "\n",
            "Total execution time for dataset Iris is 12.36 s\n"
          ]
        }
      ],
      "source": [
        "# Prepare the dataset\n",
        "data_loc_path = \"/content/drive/MyDrive/Colab Notebooks/Optimization/Iris.csv\"\n",
        "\n",
        "#Params init\n",
        "typeOfAlgo = 0\n",
        "nbr_exec = 1\n",
        "flip = 5\n",
        "maxChance = 3\n",
        "nbrBees = 10\n",
        "maxIterations = 2\n",
        "locIterations = 2\n",
        "\n",
        "instance = FSData(data_loc_path,nbr_exec)\n",
        "instance.run(typeOfAlgo,flip,maxChance,nbrBees,maxIterations,locIterations)\n"
      ]
    },
    {
      "cell_type": "code",
      "source": [],
      "metadata": {
        "id": "nNom4sUTvihq"
      },
      "execution_count": null,
      "outputs": []
    }
  ],
  "metadata": {
    "accelerator": "GPU",
    "colab": {
      "provenance": [],
      "collapsed_sections": [
        "gkw13B4X9ob-"
      ]
    },
    "kernelspec": {
      "display_name": "Python 3",
      "language": "python",
      "name": "python3"
    },
    "language_info": {
      "name": "python",
      "version": "3.11.2"
    },
    "vscode": {
      "interpreter": {
        "hash": "aee8b7b246df8f9039afb4144a1f6fd8d2ca17a180786b69acc140d282b71a49"
      }
    }
  },
  "nbformat": 4,
  "nbformat_minor": 0
}